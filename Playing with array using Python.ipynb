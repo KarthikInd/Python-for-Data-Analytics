{
 "cells": [
  {
   "cell_type": "code",
   "execution_count": 5,
   "id": "75788402",
   "metadata": {},
   "outputs": [
    {
     "name": "stdout",
     "output_type": "stream",
     "text": [
      "4\n",
      "1\n",
      "2\n",
      "3\n",
      "4\n"
     ]
    }
   ],
   "source": [
    "arr=[]\n",
    "n=int(input())\n",
    "\n",
    "#for(i=0;i<n;i++)  value of i starts from 0 and ends at n-1\n",
    "#arr=   1,2,3,4\n",
    "#index= 0,1,2,3\n",
    "\n",
    "for i in range(n): \n",
    "    x=int(input())\n",
    "    arr.append(x)\n"
   ]
  },
  {
   "cell_type": "code",
   "execution_count": 6,
   "id": "4967094c",
   "metadata": {},
   "outputs": [
    {
     "data": {
      "text/plain": [
       "[1, 2, 3, 4]"
      ]
     },
     "execution_count": 6,
     "metadata": {},
     "output_type": "execute_result"
    }
   ],
   "source": [
    "arr"
   ]
  },
  {
   "cell_type": "code",
   "execution_count": 7,
   "id": "ef0062ec",
   "metadata": {},
   "outputs": [
    {
     "data": {
      "text/plain": [
       "[1, 2]"
      ]
     },
     "execution_count": 7,
     "metadata": {},
     "output_type": "execute_result"
    }
   ],
   "source": [
    "arr[0:2]"
   ]
  },
  {
   "cell_type": "code",
   "execution_count": 8,
   "id": "d2e36304",
   "metadata": {},
   "outputs": [
    {
     "data": {
      "text/plain": [
       "[1, 2, 3, 4]"
      ]
     },
     "execution_count": 8,
     "metadata": {},
     "output_type": "execute_result"
    }
   ],
   "source": [
    "arr[:]"
   ]
  },
  {
   "cell_type": "code",
   "execution_count": 12,
   "id": "34ef4e11",
   "metadata": {},
   "outputs": [],
   "source": [
    "arr2=arr[::-1]"
   ]
  },
  {
   "cell_type": "code",
   "execution_count": 11,
   "id": "fe524b95",
   "metadata": {},
   "outputs": [
    {
     "data": {
      "text/plain": [
       "[1, 2, 3, 4]"
      ]
     },
     "execution_count": 11,
     "metadata": {},
     "output_type": "execute_result"
    }
   ],
   "source": [
    "arr"
   ]
  },
  {
   "cell_type": "code",
   "execution_count": 14,
   "id": "577bb432",
   "metadata": {},
   "outputs": [
    {
     "data": {
      "text/plain": [
       "False"
      ]
     },
     "execution_count": 14,
     "metadata": {},
     "output_type": "execute_result"
    }
   ],
   "source": [
    "arr==arr2"
   ]
  },
  {
   "cell_type": "code",
   "execution_count": 15,
   "id": "96bd4d0d",
   "metadata": {},
   "outputs": [],
   "source": [
    "arr.append(5)"
   ]
  },
  {
   "cell_type": "code",
   "execution_count": 16,
   "id": "967fcbb6",
   "metadata": {},
   "outputs": [
    {
     "data": {
      "text/plain": [
       "[1, 2, 3, 4, 5]"
      ]
     },
     "execution_count": 16,
     "metadata": {},
     "output_type": "execute_result"
    }
   ],
   "source": [
    "arr"
   ]
  },
  {
   "cell_type": "code",
   "execution_count": 19,
   "id": "03bfe88e",
   "metadata": {},
   "outputs": [],
   "source": [
    "arr.insert(4,6)   #arr.insert(position, value)"
   ]
  },
  {
   "cell_type": "code",
   "execution_count": 20,
   "id": "2dcfe883",
   "metadata": {},
   "outputs": [
    {
     "data": {
      "text/plain": [
       "[1, 2, 3, 4, 6, 5, 4]"
      ]
     },
     "execution_count": 20,
     "metadata": {},
     "output_type": "execute_result"
    }
   ],
   "source": [
    "arr"
   ]
  },
  {
   "cell_type": "code",
   "execution_count": 21,
   "id": "a99a786b",
   "metadata": {},
   "outputs": [],
   "source": [
    "arr=[10,20,30,40]"
   ]
  },
  {
   "cell_type": "code",
   "execution_count": 22,
   "id": "bd7b08d3",
   "metadata": {},
   "outputs": [
    {
     "data": {
      "text/plain": [
       "[10, 20, 30, 40]"
      ]
     },
     "execution_count": 22,
     "metadata": {},
     "output_type": "execute_result"
    }
   ],
   "source": [
    "arr"
   ]
  },
  {
   "cell_type": "code",
   "execution_count": 24,
   "id": "2159588f",
   "metadata": {},
   "outputs": [],
   "source": [
    "arr.append(50)  #arr.append(value)"
   ]
  },
  {
   "cell_type": "code",
   "execution_count": 25,
   "id": "f02dbc95",
   "metadata": {},
   "outputs": [
    {
     "data": {
      "text/plain": [
       "[10, 20, 30, 40, 50, 50]"
      ]
     },
     "execution_count": 25,
     "metadata": {},
     "output_type": "execute_result"
    }
   ],
   "source": [
    "arr"
   ]
  },
  {
   "cell_type": "code",
   "execution_count": 26,
   "id": "28ed3f95",
   "metadata": {},
   "outputs": [],
   "source": [
    "arr.remove(50) #arr.remove(value) "
   ]
  },
  {
   "cell_type": "code",
   "execution_count": 27,
   "id": "ca0b273f",
   "metadata": {},
   "outputs": [
    {
     "data": {
      "text/plain": [
       "[10, 20, 30, 40, 50]"
      ]
     },
     "execution_count": 27,
     "metadata": {},
     "output_type": "execute_result"
    }
   ],
   "source": [
    "arr"
   ]
  },
  {
   "cell_type": "code",
   "execution_count": 28,
   "id": "133b5da7",
   "metadata": {},
   "outputs": [],
   "source": [
    "arr.insert(0,5)  #arr.insert(index/position, value)"
   ]
  },
  {
   "cell_type": "code",
   "execution_count": 29,
   "id": "16032f85",
   "metadata": {},
   "outputs": [
    {
     "data": {
      "text/plain": [
       "[5, 10, 20, 30, 40, 50]"
      ]
     },
     "execution_count": 29,
     "metadata": {},
     "output_type": "execute_result"
    }
   ],
   "source": [
    "arr"
   ]
  },
  {
   "cell_type": "code",
   "execution_count": 30,
   "id": "53937d8d",
   "metadata": {},
   "outputs": [],
   "source": [
    "arr.reverse()"
   ]
  },
  {
   "cell_type": "code",
   "execution_count": 31,
   "id": "3da35c17",
   "metadata": {},
   "outputs": [
    {
     "data": {
      "text/plain": [
       "[50, 40, 30, 20, 10, 5]"
      ]
     },
     "execution_count": 31,
     "metadata": {},
     "output_type": "execute_result"
    }
   ],
   "source": [
    "arr"
   ]
  },
  {
   "cell_type": "code",
   "execution_count": 33,
   "id": "206a9230",
   "metadata": {},
   "outputs": [
    {
     "data": {
      "text/plain": [
       "0"
      ]
     },
     "execution_count": 33,
     "metadata": {},
     "output_type": "execute_result"
    }
   ],
   "source": [
    "arr.index(50)"
   ]
  },
  {
   "cell_type": "code",
   "execution_count": 35,
   "id": "2f8bcc6e",
   "metadata": {},
   "outputs": [],
   "source": [
    "arr.append(20)"
   ]
  },
  {
   "cell_type": "code",
   "execution_count": 36,
   "id": "1b74f9bb",
   "metadata": {},
   "outputs": [
    {
     "data": {
      "text/plain": [
       "3"
      ]
     },
     "execution_count": 36,
     "metadata": {},
     "output_type": "execute_result"
    }
   ],
   "source": [
    "arr.index(20)"
   ]
  },
  {
   "cell_type": "code",
   "execution_count": null,
   "id": "9b84746a",
   "metadata": {},
   "outputs": [],
   "source": [
    "# a=[10,20,30,40,50,60,20,70], find count of 20"
   ]
  },
  {
   "cell_type": "code",
   "execution_count": 37,
   "id": "330f02c8",
   "metadata": {},
   "outputs": [],
   "source": [
    "a=[10,20,30,40,50,60,20,70]"
   ]
  },
  {
   "cell_type": "code",
   "execution_count": 42,
   "id": "1735f646",
   "metadata": {},
   "outputs": [
    {
     "name": "stdout",
     "output_type": "stream",
     "text": [
      "2\n"
     ]
    }
   ],
   "source": [
    "count=0\n",
    "for i in a:\n",
    "    if i==20:\n",
    "        count+=1   #count=count+1\n",
    "print(count)"
   ]
  },
  {
   "cell_type": "code",
   "execution_count": 43,
   "id": "e33fe2f6",
   "metadata": {},
   "outputs": [],
   "source": [
    "a.sort()"
   ]
  },
  {
   "cell_type": "code",
   "execution_count": 44,
   "id": "1c6d605c",
   "metadata": {},
   "outputs": [
    {
     "data": {
      "text/plain": [
       "[10, 20, 20, 30, 40, 50, 60, 70]"
      ]
     },
     "execution_count": 44,
     "metadata": {},
     "output_type": "execute_result"
    }
   ],
   "source": [
    "a"
   ]
  },
  {
   "cell_type": "code",
   "execution_count": 45,
   "id": "5a0a35c5",
   "metadata": {},
   "outputs": [],
   "source": [
    "a.remove(20)"
   ]
  },
  {
   "cell_type": "code",
   "execution_count": 47,
   "id": "7cae33eb",
   "metadata": {},
   "outputs": [
    {
     "data": {
      "text/plain": [
       "[10, 20, 30, 40, 50, 60, 70]"
      ]
     },
     "execution_count": 47,
     "metadata": {},
     "output_type": "execute_result"
    }
   ],
   "source": [
    "a"
   ]
  },
  {
   "cell_type": "code",
   "execution_count": 53,
   "id": "6187e996",
   "metadata": {},
   "outputs": [
    {
     "name": "stdout",
     "output_type": "stream",
     "text": [
      "50400000000\n"
     ]
    }
   ],
   "source": [
    "multi=1\n",
    "for karthik in a:\n",
    "    multi=multi*karthik\n",
    "print(multi)"
   ]
  },
  {
   "cell_type": "code",
   "execution_count": 58,
   "id": "083535a3",
   "metadata": {},
   "outputs": [
    {
     "name": "stdout",
     "output_type": "stream",
     "text": [
      "280\n"
     ]
    }
   ],
   "source": [
    "def multiplication(arr):\n",
    "    sum=0\n",
    "    for karthik in a:\n",
    "        sum=sum+karthik\n",
    "    return sum\n",
    "\n",
    "a=[10, 20, 30, 40, 50, 60, 70]\n",
    "print(multiplication(arr))    "
   ]
  }
 ],
 "metadata": {
  "kernelspec": {
   "display_name": "Python 3 (ipykernel)",
   "language": "python",
   "name": "python3"
  },
  "language_info": {
   "codemirror_mode": {
    "name": "ipython",
    "version": 3
   },
   "file_extension": ".py",
   "mimetype": "text/x-python",
   "name": "python",
   "nbconvert_exporter": "python",
   "pygments_lexer": "ipython3",
   "version": "3.9.12"
  }
 },
 "nbformat": 4,
 "nbformat_minor": 5
}
